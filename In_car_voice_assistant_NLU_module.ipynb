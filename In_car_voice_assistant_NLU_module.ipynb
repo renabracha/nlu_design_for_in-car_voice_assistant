{
  "nbformat": 4,
  "nbformat_minor": 0,
  "metadata": {
    "colab": {
      "provenance": []
    },
    "kernelspec": {
      "name": "python3",
      "display_name": "Python 3"
    },
    "language_info": {
      "name": "python"
    }
  },
  "cells": [
    {
      "cell_type": "code",
      "execution_count": 1,
      "metadata": {
        "id": "iaam9r9rgH8D"
      },
      "outputs": [],
      "source": [
        "# Always put this in the first cell of your notebook to activate text wrapping in the output cells\n",
        "from IPython.display import HTML, display\n",
        "\n",
        "def set_css():\n",
        "  display(HTML('''\n",
        "  <style>\n",
        "    pre {\n",
        "        white-space: pre-wrap;\n",
        "    }\n",
        "  </style>\n",
        "  '''))\n",
        "get_ipython().events.register('pre_run_cell', set_css)"
      ]
    },
    {
      "cell_type": "code",
      "source": [
        "!pip install groq langchain langchain_groq -q"
      ],
      "metadata": {
        "colab": {
          "base_uri": "https://localhost:8080/",
          "height": 35
        },
        "id": "Cw2anRt1gbpS",
        "outputId": "f7deeb87-ce0b-46ce-dc74-620d818ba278"
      },
      "execution_count": 2,
      "outputs": [
        {
          "output_type": "display_data",
          "data": {
            "text/plain": [
              "<IPython.core.display.HTML object>"
            ],
            "text/html": [
              "\n",
              "  <style>\n",
              "    pre {\n",
              "        white-space: pre-wrap;\n",
              "    }\n",
              "  </style>\n",
              "  "
            ]
          },
          "metadata": {}
        },
        {
          "output_type": "stream",
          "name": "stdout",
          "text": [
            "\u001b[?25l   \u001b[90m━━━━━━━━━━━━━━━━━━━━━━━━━━━━━━━━━━━━━━━━\u001b[0m \u001b[32m0.0/127.5 kB\u001b[0m \u001b[31m?\u001b[0m eta \u001b[36m-:--:--\u001b[0m\r\u001b[2K   \u001b[90m━━━━━━━━━━━━━━━━━━━━━━━━━━━━━━━━━━━━━━━━\u001b[0m \u001b[32m127.5/127.5 kB\u001b[0m \u001b[31m6.4 MB/s\u001b[0m eta \u001b[36m0:00:00\u001b[0m\n",
            "\u001b[?25h"
          ]
        }
      ]
    },
    {
      "cell_type": "code",
      "source": [
        "# Import the packages\n",
        "import os\n",
        "from google.colab import drive, userdata\n",
        "from langchain.prompts import PromptTemplate\n",
        "from langchain_groq import ChatGroq\n",
        "from langchain.prompts import ChatPromptTemplate\n",
        "from langchain.chains import LLMChain\n",
        "#from langchain.chains.router import MultiPromptChain\n",
        "#from langchain.chains.router.llm_router import LLMRouterChain,RouterOutputParser"
      ],
      "metadata": {
        "colab": {
          "base_uri": "https://localhost:8080/",
          "height": 17
        },
        "id": "44pFxL-GglKR",
        "outputId": "280ffe52-f842-4652-ed72-44f7b2291ac9"
      },
      "execution_count": 3,
      "outputs": [
        {
          "output_type": "display_data",
          "data": {
            "text/plain": [
              "<IPython.core.display.HTML object>"
            ],
            "text/html": [
              "\n",
              "  <style>\n",
              "    pre {\n",
              "        white-space: pre-wrap;\n",
              "    }\n",
              "  </style>\n",
              "  "
            ]
          },
          "metadata": {}
        }
      ]
    },
    {
      "cell_type": "code",
      "source": [
        "# Mount Google Drive\n",
        "print(\"Mounting Google Drive...\")\n",
        "drive.mount('/content/drive/')"
      ],
      "metadata": {
        "id": "Txw7teMEgq3z",
        "colab": {
          "base_uri": "https://localhost:8080/",
          "height": 54
        },
        "outputId": "e69cd991-15a8-4040-cd45-bf2d848ebfaa"
      },
      "execution_count": 4,
      "outputs": [
        {
          "output_type": "display_data",
          "data": {
            "text/plain": [
              "<IPython.core.display.HTML object>"
            ],
            "text/html": [
              "\n",
              "  <style>\n",
              "    pre {\n",
              "        white-space: pre-wrap;\n",
              "    }\n",
              "  </style>\n",
              "  "
            ]
          },
          "metadata": {}
        },
        {
          "output_type": "stream",
          "name": "stdout",
          "text": [
            "Mounting Google Drive...\n",
            "Mounted at /content/drive/\n"
          ]
        }
      ]
    },
    {
      "cell_type": "code",
      "source": [
        "# Access the Groq API key\n",
        "os.environ['GROQ_API_KEY'] = userdata.get('GROQ_API_KEY')\n",
        "\n",
        "# Initialize the language model\n",
        "llm = ChatGroq(\n",
        "    model=\"llama-3.3-70b-versatile\",\n",
        "    temperature=0.8\n",
        ")"
      ],
      "metadata": {
        "colab": {
          "base_uri": "https://localhost:8080/",
          "height": 17
        },
        "id": "jEwDRCnYgrTJ",
        "outputId": "a2c8eb16-5f2e-4b2d-de19-9015837a5a05"
      },
      "execution_count": 5,
      "outputs": [
        {
          "output_type": "display_data",
          "data": {
            "text/plain": [
              "<IPython.core.display.HTML object>"
            ],
            "text/html": [
              "\n",
              "  <style>\n",
              "    pre {\n",
              "        white-space: pre-wrap;\n",
              "    }\n",
              "  </style>\n",
              "  "
            ]
          },
          "metadata": {}
        }
      ]
    },
    {
      "cell_type": "code",
      "source": [
        "# Get a driver utterance\n",
        "def get_utterance():\n",
        "    driver_utterance = input(\"\\nTell me something: \")\n",
        "    #audio_file = f\"/content/drive/MyDrive/Colab_Notebooks/{filename}\"\n",
        "    return driver_utterance"
      ],
      "metadata": {
        "colab": {
          "base_uri": "https://localhost:8080/",
          "height": 17
        },
        "id": "EFJZ55d-gv0K",
        "outputId": "325112e8-74e9-4ee0-a78c-4c9e4a0b244f"
      },
      "execution_count": 6,
      "outputs": [
        {
          "output_type": "display_data",
          "data": {
            "text/plain": [
              "<IPython.core.display.HTML object>"
            ],
            "text/html": [
              "\n",
              "  <style>\n",
              "    pre {\n",
              "        white-space: pre-wrap;\n",
              "    }\n",
              "  </style>\n",
              "  "
            ]
          },
          "metadata": {}
        }
      ]
    },
    {
      "cell_type": "code",
      "source": [
        "audio_media_domain_template = \"\"\"You are a multilingual linguist for an in-car voice assistant.\n",
        "You understand synonyms and paraphrases across different languages.\n",
        "You specialize in audio media commands.\n",
        "\n",
        "## Task:\n",
        "Analyze the following driver utterance:\n",
        "\"{user_utterance}\"\n",
        "\n",
        "Follow these steps:\n",
        "1. If the utterance contains multiple requests, split them into atomic statements (each with a single instruction).\n",
        "2. For each atomic statement:\n",
        "   - Identify the most appropriate **intent** from the list below.\n",
        "   - Extract up to **three** relevant **slot–value pairs**.\n",
        "3. Treat polite requests, questions, and indirect expressions as equivalent to direct commands.\n",
        "4. Focus on the meaning of the utterance — ignore tone, politeness, or sentence structure.\n",
        "5. Resolve general modifiers like “all” or “two songs ahead” into appropriate slot–value pairs (e.g. \"scope\": \"all\", \"quantity\": 2).\n",
        "6. If a slot is implied but not directly named (e.g. “Turn it on”), infer based on common usage (e.g. assume “radio” if ambiguous) or leave it empty.\n",
        "7. For each atomic request, output only the JSON in the specified format. Include a short rationale and a confidence score as fields in the JSON.\n",
        "8. Do not add any title of explanation. Return only the JSON output.\n",
        "\n",
        "## Available Intents:\n",
        "* lower_volume: Decrease the audio playback volume.\n",
        "* pause_track: Temporarily stop the current audio track.\n",
        "* play_track: Start playing a specific audio track.\n",
        "* raise_volume: Increase the audio playback volume.\n",
        "* resume_track: Continue playing the paused audio track.\n",
        "* skip_track: Move forward to the next track in the playlist.\n",
        "* stop_track: Completely stop audio playback.\n",
        "\n",
        "## Available Slots and Their Descriptions:\n",
        "* direction: The skip direction if applicable (e.g. \"forward\", \"backward\").\n",
        "* media_source: The origin of the media (e.g. \"my playlist\", \"jazz playlist\", a named radio station).\n",
        "* media_type: The category of media (e.g. music, podcast, radio station).\n",
        "* music_genre: The genre of music (e.g. classical, jazz, pop).\n",
        "* quantity: A number indicating how many tracks to skip or repeat.\n",
        "* scope: Broad modifiers like \"all\" (e.g. \"play all songs\").\n",
        "* target_device: The system or hardware to control (e.g. radio, volume).\n",
        "* target_media: The specific media being controlled (e.g. podcast, album, song).\n",
        "\n",
        "## Guidelines\n",
        "* Interpret \"skip forward N songs\" as moving ahead past N songs. For example, from song A, \"skip forward 2 songs\" means play song D.\n",
        "* Interpret \"play the N-th next song\" (e.g., “2 songs ahead”) as the destination song. From song A, \"2 songs ahead\" refers to song C.\n",
        "* In Japanese:\n",
        "- 「Xつ先の曲」 refers to the destination song (e.g., song C).\n",
        "- 「曲をXつスキップして」 means skip X songs and play the one after (e.g., song D).\n",
        "- 「Xつ前の曲」 refers to the N-th previous song.\n",
        "* Avoid using unnatural expressions like 「曲をXつ後ろにスキップして」. Prefer 「Xつ前の曲に戻って」 or 「X曲前に戻って」.\n",
        "* Always distinguish between the number of songs to skip and the destination index when extracting slot values.\n",
        "\n",
        "## Output Format (JSON):\n",
        "For each atomic request, return:\n",
        "{{\"intent\": ..., \"slots\": {{...}}, \"confidence\": <float from 0 to 1>, \"rationale\": \"<brief explanation of how you identified the intent and slot(s)>\"}}\n",
        "\n",
        "## Examples:\n",
        "* \"Lower the radio volume\"\n",
        "  → {{\"intent\": \"lower_volume\", \"slots\": {{\"target_device\": \"radio\"}}, \"confidence\": 0.96, \"rationale\": \"Clear command to decrease volume with specified device.\"}}\n",
        "\n",
        "* \"Pause the podcast\"\n",
        "  → {{\"intent\": \"pause_track\", \"slots\": {{\"target_media\": \"podcast\"}}, \"confidence\": 0.95, \"rationale\": \"Direct pause command with clear media type.\"}}\n",
        "\n",
        "* \"Play some classical music from my playlist\"\n",
        "  → {{\"intent\": \"play_track\", \"slots\": {{\"media_source\": \"my playlist\", \"media_type\": \"music\", \"music_genre\": \"classical\"}}, \"confidence\": 0.94, \"rationale\": \"Explicit intent to play music with genre and source specified.\"}}\n",
        "\n",
        "* \"Turn up the radio\"\n",
        "  → {{\"intent\": \"raise_volume\", \"slots\": {{\"target_device\": \"radio\"}}, \"confidence\": 0.93, \"rationale\": \"Common phrasing for increasing radio volume.\"}}\n",
        "\n",
        "* \"Resume the podcast\"\n",
        "  → {{\"intent\": \"resume_track\", \"slots\": {{\"target_media\": \"podcast\"}}, \"confidence\": 0.92, \"rationale\": \"Standard resume action with clear media context.\"}}\n",
        "\n",
        "* \"Skip forward two songs\"\n",
        "  → {{\"intent\": \"skip_track\", \"slots\": {{\"direction\": \"forward\", \"target_media\": \"song\", \"quantity\": 2}}, \"confidence\": 0.91, \"rationale\": \"Includes direction and quantity, explicitly referencing songs.\"}}\n",
        "\n",
        "* \"Stop playing the song\"\n",
        "  → {{\"intent\": \"stop_track\", \"slots\": {{\"target_media\": \"song\"}}, \"confidence\": 0.93, \"rationale\": \"Clear stop command targeting specific media type.\"}}\n",
        "\n",
        "* \"Could you turn it down a bit?\"\n",
        "  → {{\"intent\": \"lower_volume\", \"slots\": {{\"target_device\": \"audio system\"}}, \"confidence\": 0.68, \"rationale\": \"Polite indirect phrasing; assumes context refers to audio volume.\"}}\n",
        "\n",
        "* \"Let's hear something upbeat\"\n",
        "  → {{\"intent\": \"play_track\", \"slots\": {{\"music_mood\": \"upbeat\"}}, \"confidence\": 0.61, \"rationale\": \"Vague suggestion to play music; genre and source not specified, mood inferred.\"}}\n",
        "\n",
        "* \"Change the track\"\n",
        "  → {{\"intent\": \"skip_track\", \"slots\": {{\"direction\": \"forward\"}}, \"confidence\": 0.75, \"rationale\": \"Unclear whether skipping or selecting specific track; 'change' implies forward skip.\"}}\n",
        "\n",
        "* \"Make it quieter\"\n",
        "  → {{\"intent\": \"lower_volume\", \"slots\": {{\"target_device\": \"audio system\"}}, \"confidence\": 0.70, \"rationale\": \"Ambiguous but likely volume-related; device assumed from context.\"}}\n",
        "\n",
        "Now extract the intents and slots from the utterance:\n",
        "\"{user_utterance}\"\n",
        "\"\"\"\n",
        "\n",
        "climate_control_domain_template = \"\"\"You are a multilingual linguist working on an in-car voice assistant.\n",
        "You are highly skilled in understanding synonyms, paraphrases, and indirect commands across multiple languages.\n",
        "You specialize in interpreting vehicle climate control instructions.\n",
        "Climate control devices refer to systems that control the cabin climate like the air conditioner (a/c), fan, and seat heating. This category excludes physical operation or configuration of the vehicle, such as windows, mirrors, and lights, which are treated separately.\n",
        "\n",
        "## Task:\n",
        "Analyze the following user utterance:\n",
        "\"{user_utterance}\"\n",
        "\n",
        "Follow these steps:\n",
        "1. If the utterance contains more than one instruction, split them into atomic statements (each with a single instruction).\n",
        "2. For each atomic statement:\n",
        "   - Identify the most appropriate **intent** from the list below.\n",
        "   - Extract up to **three** relevant **slot–value pairs**.\n",
        "3. Treat polite requests, questions, and indirect expressions as equivalent to direct commands.\n",
        "4. Focus on the meaning of the utterance — ignore tone, politeness, or sentence structure.\n",
        "5. Resolve general modifiers like “fully,” “all,” or “a little” into specific slot values when possible (e.g. \"amount\": \"fully\", \"scope\": \"all\").\n",
        "6. If a device or slot is implied (e.g. “Turn it off”), infer the most likely value based on context. If uncertain, leave it empty.\n",
        "7. If the utterance is ambiguous (e.g. \"Turn up the a/c\"), consider multiple interpretations:\n",
        "   - One may refer to adjusting **cooling intensity** (e.g. \"increase a/c power\").\n",
        "   - Another may refer to changing the **direction** of airflow (e.g. \"tilt the vents upward\").\n",
        "   Choose the most plausible interpretation based on context. If unclear, return multiple atomic interpretations.\n",
        "8. For each atomic request, output only the JSON in the specified format. Include a short rationale and a confidence score as fields in the JSON.\n",
        "9. Do not add any title of explanation. Return only the JSON output.\n",
        "\n",
        "## Available Intents:\n",
        "* set_climate_condition: Change a measurable climate condition (e.g. temperature, humidity).\n",
        "* set_device: Adjust a specific part or feature of the climate control system (e.g. airflow direction or fan speed).\n",
        "* switch_off: Turn off a device.\n",
        "* switch_on: Turn on a device.\n",
        "\n",
        "## Available Slots and Their Descriptions:\n",
        "* application_target: The object to effect the climate condition (e.g. \"towards the footwells\").\n",
        "* climate_condition: The climate condition to act upon (e.g. \"temperature\", \"humidity\").\n",
        "* device_feature: The part of the target device to operate (e.g. the vents of the a/c).\n",
        "* direction: Movement direction (e.g. \"up\", \"down\")\n",
        "* level: Degree or extent of operation (e.g. \"fully\", \"a little\").\n",
        "* position: The location or orientation of the device (e.g. \"rear left\", \"driver's side\", \"overhead\", \"footwells\").\n",
        "* quantity: The numerical value of measurement (e.g. \"seventy\", \"eighteen\", \"twenty-four\").\n",
        "* target_device: The system or hardware to control (e.g. a/c, fan, seat heating).\n",
        "* unit: The unit of temperature measurement (e.g. \"degrees Celsius\", \"degrees Fahrenheit\", \"percent\")\n",
        "\n",
        "## Output Format (JSON):\n",
        "For each atomic request, return:\n",
        "{{\"intent\": ..., \"slots\": {{...}}, \"confidence\": <float from 0 to 1>, \"rationale\": \"<brief explanation of how you identified the intent and slot(s)>\"}}\n",
        "\n",
        "## Examples:\n",
        "* \"Start the ventilation fan at level four\"\n",
        "  → {{\"intent\": \"switch_on\", \"slots\": {{\"target_device\": \"ventilation fan\", \"level\": \"level four\"}}, \"confidence\": 0.95, \"rationale\": \"Explicit device and level mentioned, typical startup command.\"}}\n",
        "\n",
        "* \"Turn on the a/c at eighteen degrees Celsius\"\n",
        "  → {{\"intent\": \"switch_on\", \"slots\": {{\"target_device\": \"a/c\", \"quantity\": \"eighteen\", \"unit\": \"degrees Celsius\"}}, \"confidence\": 0.96, \"rationale\": \"Clear switch-on intent with precise temperature.\"}}\n",
        "\n",
        "* \"Switch off the fan at the front\"\n",
        "  → {{\"intent\": \"switch_off\", \"slots\": {{\"target_device\": \"fan\", \"position\": \"front\"}}, \"confidence\": 0.94, \"rationale\": \"Standard turn-off phrasing and position provided.\"}}\n",
        "\n",
        "* \"Turn up the heating to twenty-four degrees\"\n",
        "  → {{\"intent\": \"set_climate_condition\", \"slots\": {{\"target_device\": \"seat heating\", \"climate_condition\": \"temperature\", \"quantity\": \"twenty-four\", \"unit\": \"degrees Celsius\"}}, \"confidence\": 0.91, \"rationale\": \"Intent is to raise temperature, with explicit target value.\"}}\n",
        "\n",
        "* \"Turn up the a/c by five degrees\"\n",
        "  → {{\"intent\": \"set_climate_condition\", \"slots\": {{\"target_device\": \"a/c\", \"quantity\": \"five\", \"unit\": \"degrees Celsius\", \"direction\": \"up\"}}, \"confidence\": 0.89, \"rationale\": \"Implied relative increase in cooling level.\"}}\n",
        "\n",
        "* \"Decrease the humidity inside the cabin by thirty percent\"\n",
        "  → {{\"intent\": \"set_climate_condition\", \"slots\": {{\"target_device\": \"humidifier\", \"climate_condition\": \"humidity\", \"quantity\": \"thirty\", \"unit\": \"percent\", \"direction\": \"down\", \"application_target\": \"cabin\"}}, \"confidence\": 0.93, \"rationale\": \"Well-specified target and condition with clear direction and scope.\"}}\n",
        "\n",
        "* \"Direct the airflow to the footwells\"\n",
        "  → {{\"intent\": \"set_device\", \"slots\": {{\"target_device\": \"fan\", \"application_target\": \"footwells\"}}, \"confidence\": 0.88, \"rationale\": \"Common command with clear redirection of airflow.\"}}\n",
        "\n",
        "* \"Tilt the a/c vents upward\"\n",
        "  → {{\"intent\": \"set_device\", \"slots\": {{\"target_device\": \"a/c\", \"direction\": \"up\", \"device_feature\": \"vents\"}}, \"confidence\": 0.87, \"rationale\": \"Vents and direction mentioned explicitly.\"}}\n",
        "\n",
        "* \"Defrost the windshield quickly\"\n",
        "  → {{\"intent\": \"switch_on\", \"slots\": {{\"target_device\": \"defroster\", \"target_car_part\": \"windshield\", \"level\": \"high\"}}, \"confidence\": 0.92, \"rationale\": \"Speed implied 'quickly' maps to high level, device and target clear.\"}}\n",
        "\n",
        "* \"It's chilly in here\"\n",
        "  → {{\"intent\": \"set_climate_condition\", \"slots\": {{\"target_device\": \"heater\", \"climate_condition\": \"temperature\", \"direction\": \"up\"}}, \"confidence\": 0.66, \"rationale\": \"User implies need for heat, but does not mention any action or value.\"}}\n",
        "\n",
        "* \"Can you make it more comfortable?\"\n",
        "  → {{\"intent\": \"set_climate_condition\", \"slots\": {{\"target_device\": \"climate system\", \"direction\": \"adjust\"}}, \"confidence\": 0.52, \"rationale\": \"Very vague; system must infer from context whether user is hot, cold, or stuffy.\"}}\n",
        "\n",
        "* \"Turn up the a/c\"\n",
        "  → {{\"intent\": \"set_device\", \"slots\": {{\"target_device\": \"a/c\", \"device_feature\": \"power\", \"direction\": \"up\"}}, \"confidence\": 0.78, \"rationale\": \"Could refer to fan speed, temperature, or vent strength; assuming power.\"}}\n",
        "\n",
        "Now extract the intents and slots from the utterance:\n",
        "\"{user_utterance}\"\n",
        "\"\"\"\n",
        "\n",
        "communication_domain_template = \"\"\"You are a multilingual linguist for an in-car voice assistant.\n",
        "You understand synonyms and paraphrases across different languages.\n",
        "You specialize in vehicle communication.\n",
        "\n",
        "## Task:\n",
        "Analyze the following driver utterance:\n",
        "\"{user_utterance}\"\n",
        "\n",
        "Follow these steps:\n",
        "1. If the utterance contains multiple requests, split them into atomic statements (each with a single instruction).\n",
        "2. For each atomic statement:\n",
        "   - Identify the most appropriate **intent** from the list below.\n",
        "   - Extract up to **three** relevant **slot–value pairs**.\n",
        "3. Treat polite requests, questions, and indirect expressions as equivalent to direct commands.\n",
        "4. Focus on the meaning of the utterance — ignore tone, politeness, or sentence structure.\n",
        "5. If a slot is implied (e.g. “Call her”), infer likely values based on common use cases (e.g. the most recent female contact) or leave the slot empty.\n",
        "6. For each atomic request, output only the JSON in the specified format. Include a short rationale and a confidence score as fields in the JSON.\n",
        "7. Do not add any title of explanation. Return only the JSON output.\n",
        "\n",
        "## Available Intents:\n",
        "* make_call: Call a specific contactee.\n",
        "* read_out_message: Read out a message for the driver to hear.\n",
        "* send_message: Compose a voice message and send it to a specific contactee.\n",
        "\n",
        "## Available Slots and Their Descriptions:\n",
        "* call_history: Refers to a previously dialed number (e.g. \"last dialed number\")\n",
        "* contactee: The person to call or message (e.g. \"my mum\", \"John\")\n",
        "* contact_list: The list where the contactee is saved (e.g. \"my contacts\", \"contact list three\")\n",
        "* location_specification: Specifies which number to use (e.g. \"her office\", \"his mobile\")\n",
        "* message_inbox: Refers to received messages (e.g. \"latest message\")\n",
        "* message_text: The content of the message to send.\n",
        "* message_to_read: The specific message to read aloud.\n",
        "* message_type: Type of message to send (e.g. \"text\", \"voice\")\n",
        "* recipient: The person receiving the message.\n",
        "* source_device: The driver’s device used to place the call (e.g. \"my mobile phone\")\n",
        "* target_device: The contactee’s device (e.g. \"his cell phone\")\n",
        "\n",
        "## Output Format (JSON):\n",
        "For each atomic request, return:\n",
        "{{\"intent\": ..., \"slots\": {{...}}, \"confidence\": <float from 0 to 1>, \"rationale\": \"<brief explanation of how you identified the intent and slot(s)>\"}}\n",
        "\n",
        "## Examples:\n",
        "* \"Dial Jane from my contacts\"\n",
        "  → {{\"intent\": \"make_call\", \"slots\": {{\"contactee\": \"Jane\", \"contact_list\": \"my contacts\"}}, \"confidence\": 0.94, \"rationale\": \"Explicit action verb 'Dial', clear reference to contact name and contact list.\"}}\n",
        "\n",
        "* \"Phone James on his mobile device\"\n",
        "  → {{\"intent\": \"make_call\", \"slots\": {{\"contactee\": \"James\", \"target_device\": \"his mobile device\"}}, \"confidence\": 0.91, \"rationale\": \"'Phone' and 'mobile device' clearly indicate a call intent and device.\"}}\n",
        "\n",
        "* \"Call Tom at his office\"\n",
        "  → {{\"intent\": \"make_call\", \"slots\": {{\"contactee\": \"Tom\", \"location_specification\": \"his office\"}}, \"confidence\": 0.90, \"rationale\": \"'Call' verb plus location tag suggests work contact context.\"}}\n",
        "\n",
        "* \"Ring Mom from my cell phone\"\n",
        "  → {{\"intent\": \"make_call\", \"slots\": {{\"contactee\": \"Mom\", \"source_device\": \"my cell phone\"}}, \"confidence\": 0.89, \"rationale\": \"'Ring' is a common informal synonym for calling; source device specified.\"}}\n",
        "\n",
        "* \"Call the last dialed number\"\n",
        "  → {{\"intent\": \"make_call\", \"slots\": {{\"call_history\": \"last dialed number\"}}, \"confidence\": 0.93, \"rationale\": \"Refers to a previous interaction in the call log, implying a redial command.\"}}\n",
        "\n",
        "* \"Read out the latest message received\"\n",
        "  → {{\"intent\": \"read_out_message\", \"slots\": {{\"message_inbox\": \"latest message\"}}, \"confidence\": 0.92, \"rationale\": \"Action verb 'read out' and mention of 'latest message' points to message retrieval.\"}}\n",
        "\n",
        "* \"Send a voice message to David saying 'Sorry, I'll be late'\"\n",
        "  → {{\"intent\": \"send_message\", \"slots\": {{\"message_text\": \"Sorry, I'll be late\", \"recipient\": \"David\", \"message_type\": \"voice\"}}, \"confidence\": 0.96, \"rationale\": \"Clear structure of message composition with type, recipient, and content.\"}}\n",
        "\n",
        "* \"Message Anna\"\n",
        "  → {{\"intent\": \"send_message\", \"slots\": {{\"recipient\": \"Anna\"}}, \"confidence\": 0.72, \"rationale\": \"The verb 'Message' implies sending a message, but the lack of message type or content makes intent partially underspecified.\"}}\n",
        "\n",
        "* \"Can you call?\"\n",
        "  → {{\"intent\": \"make_call\", \"slots\": {{}}, \"confidence\": 0.65, \"rationale\": \"The phrase suggests a calling intent, but it lacks both recipient and target device info, making it ambiguous.\"}}\n",
        "\n",
        "* \"Tell John I’ll be there\"\n",
        "  → {{\"intent\": \"send_message\", \"slots\": {{\"recipient\": \"John\", \"message_text\": \"I’ll be there\"}}, \"confidence\": 0.78, \"rationale\": \"Likely a message intent, but phrased more like spoken speech than a clear command to send.\"}}\n",
        "\n",
        "Now extract the intents and slots from the utterance:\n",
        "\"{user_utterance}\"\n",
        "\"\"\"\n",
        "\n",
        "device_control_domain_template = \"\"\"You are a multilingual linguist working on an in-car voice assistant.\n",
        "You are highly skilled in understanding synonyms, paraphrases, and indirect commands across multiple languages.\n",
        "You specialize in interpreting vehicle device control instructions.\n",
        "Vehicle devices refer to components that control the physical operation or configuration of the vehicle, such as windows, mirrors, and lights. This category excludes climate control systems like the air conditioner (A/C), fan, and seat heating, which are treated separately.\n",
        "\n",
        "## Task:\n",
        "Analyze the following user utterance:\n",
        "\"{user_utterance}\"\n",
        "\n",
        "Follow these steps:\n",
        "1. If the utterance contains more than one instruction, split them into atomic statements (each with a single instruction).\n",
        "2. For each atomic statement:\n",
        "   - Identify the most appropriate **intent** from the list below.\n",
        "   - Extract up to **three** relevant **slot–value pairs**.\n",
        "3. Treat polite requests, questions, and indirect expressions as equivalent to direct commands.\n",
        "4. Focus on the meaning of the utterance — ignore tone, politeness, or sentence structure.\n",
        "5. Resolve general modifiers like “fully,” “all,” or “a little” into specific slot values when possible (e.g. \"amount\": \"fully\", \"scope\": \"all\").\n",
        "6. If a device or slot is implied (e.g. “Turn it off”), infer the most likely value based on context. If uncertain, leave it empty.\n",
        "7. For each atomic request, output only the JSON in the specified format. Include a short rationale and a confidence score as fields in the JSON.\n",
        "8. Do not add any title of explanation. Return only the JSON output.\n",
        "\n",
        "## Available Intents:\n",
        "* close_device: Close a physical device or part of the vehicle (e.g. window, sunroof).\n",
        "* open_device: Open a physical device or part of the vehicle (e.g. window, sunroof).\n",
        "* set_device: Adjust a specific feature or configuration of a non-climate control device (e.g. mirror angle, headlight beam level).\n",
        "* turn_on_device: Power on an electronic or mechanical device (e.g. reading light, wipers).\n",
        "* turn_off_device: Power off an electronic or mechanical device (e.g. reading light, wipers).\n",
        "\n",
        "## Available Slots and Their Descriptions:\n",
        "* car_part: The specific part of the vehicle to control (e.g. window, light, rearview mirror).\n",
        "* desired_state: The target condition of the device (e.g. \"blue\").\n",
        "* direction: Movement direction (e.g. \"up\", \"down\").\n",
        "* feature: Specific function being modified (e.g. \"brightness\", \"temperature\").\n",
        "* level: Degree or extent of operation (e.g. \"fully\", \"a little\", \"low\", \"high\").\n",
        "* position: The location or orientation of the device (e.g. \"rear left\", \"driver's side\", \"overhead\").\n",
        "* quantity: The numerical value of measurement (e.g. \"seventy\", \"eighteen\", \"twenty-four\").\n",
        "* scope: Broad modifiers indicating coverage (e.g. \"all\", \"both\").\n",
        "* unit: The unit of temperature measurement (e.g. \"percent\")\n",
        "\n",
        "## Output Format (JSON):\n",
        "For each atomic request, return:\n",
        "{{\"intent\": ..., \"slots\": {{...}}, \"confidence\": <float from 0 to 1>, \"rationale\": \"<brief explanation of how you identified the intent and slot(s)>\"}}\n",
        "\n",
        "## Examples:\n",
        "* \"Fully open the rear left window\"\n",
        "  → {{\"intent\": \"open_device\", \"slots\": {{\"car_part\": \"window\", \"level\": \"fully\", \"position\": \"rear left\"}}, \"confidence\": 0.95, \"rationale\": \"Clear command structure indicating full opening, target part, and position.\"}}\n",
        "\n",
        "* \"Close the driver's side window by a quarter\"\n",
        "  → {{\"intent\": \"close_device\", \"slots\": {{\"car_part\": \"window\", \"level\": \"a quarter\", \"position\": \"driver's side\"}}, \"confidence\": 0.92, \"rationale\": \"Contains degree modifier and exact window position with close action.\"}}\n",
        "\n",
        "* \"Turn on all the ambient lighting in blue\"\n",
        "  → {{\"intent\": \"turn_on_device\", \"slots\": {{\"car_part\": \"ambient lighting\", \"desired_state\": \"blue\", \"scope\": \"all\"}}, \"confidence\": 0.90, \"rationale\": \"Explicit request to activate a visual setting across all instances.\"}}\n",
        "\n",
        "* \"Dim the ambient lighting\"\n",
        "  → {{\"intent\": \"set_device\", \"slots\": {{\"car_part\": \"ambient lighting\", \"feature\": \"brightness\", \"direction\": \"low\"}}, \"confidence\": 0.88, \"rationale\": \"‘Dim’ is a common expression implying lowering brightness.\"}}\n",
        "\n",
        "* \"Switch off the overhead cabin light\"\n",
        "  → {{\"intent\": \"turn_off_device\", \"slots\": {{\"car_part\": \"cabin light\", \"position\": \"overhead\"}}, \"confidence\": 0.93, \"rationale\": \"Clearly indicates a specific light to be turned off.\"}}\n",
        "\n",
        "* \"Set the front right light to seventy percent brightness\"\n",
        "  → {{\"intent\": \"set_device\", \"slots\": {{\"car_part\": \"light\", \"feature\": \"brightness\", \"quantity\": \"seventy\", \"unit\": \"percent\", \"position\": \"front right\"}}, \"confidence\": 0.89, \"rationale\": \"Structured value assignment to brightness with specified location.\"}}\n",
        "\n",
        "* \"Adjust the rearview mirror downwards slightly\"\n",
        "  → {{\"intent\": \"set_device\", \"slots\": {{\"car_part\": \"rearview mirror\", \"direction\": \"downwards\", \"level\": \"slightly\"}}, \"confidence\": 0.87, \"rationale\": \"Adjustment instruction with target, direction, and intensity level.\"}}\n",
        "\n",
        "* \"Make it brighter in here\"\n",
        "  → {{\"intent\": \"set_device\", \"slots\": {{\"car_part\": \"ambient lighting\", \"feature\": \"brightness\", \"direction\": \"up\"}}, \"confidence\": 0.76, \"rationale\": \"The phrase likely refers to ambient lighting brightness, but lacks explicit reference to lighting or level.\"}}\n",
        "\n",
        "* \"Turn it down a bit\"\n",
        "  → {{\"intent\": \"set_device\", \"slots\": {{\"feature\": \"volume\", \"direction\": \"down\", \"level\": \"a bit\"}}, \"confidence\": 0.64, \"rationale\": \"'It' is ambiguous; the user could be referring to volume, fan speed, or brightness depending on prior context.\"}}\n",
        "\n",
        "* \"Open the window halfway\"\n",
        "  → {{\"intent\": \"open_device\", \"slots\": {{\"car_part\": \"window\", \"level\": \"halfway\"}}, \"confidence\": 0.84, \"rationale\": \"Clear action and part, but no position specified (e.g., which window), reducing confidence slightly.\"}}\n",
        "\n",
        "Now extract the intents and slots from the utterance:\n",
        "\"{user_utterance}\"\n",
        "\"\"\"\n",
        "\n",
        "implict_to_direct_domain_template = \"\"\"You are a multilingual linguist for an in-car voice assistant.\n",
        "You understand synonyms, paraphrases, and implicit meanings across different languages.\n",
        "Your task is to interpret indirect expressions of discomfort or desire, infer the driver’s intent, and generate a direct command that would resolve the situation.\n",
        "\n",
        "## Task:\n",
        "Analyze the following driver utterance:\n",
        "\"{user_utterance}\"\n",
        "\n",
        "Follow these steps:\n",
        "1. If the utterance contains multiple requests, split it into **atomic statements** (each containing only one actionable request).\n",
        "2. For each atomic statement:\n",
        "   - Identify the **driver's underlying issue or desire**.\n",
        "   - Generate a **direct command** that would address or resolve the issue.\n",
        "3. Treat questions, polite expressions, and indirect or vague phrases as equivalent to direct commands.\n",
        "4. Focus entirely on **semantic intent** — ignore tone, sentence structure, or politeness.\n",
        "5. Identify expressions that signal a **problem or need**, then convert them into a command that would bring about the opposite or desired state.\n",
        "   - Example: “I’m cold” → The driver wants to be warm → Generate a command that increases cabin temperature.\n",
        "6. For each atomic request, output only the JSON in the specified format. Include a short rationale and a confidence score as fields in the JSON.\n",
        "7. Do not add any title of explanation. Return only the JSON output.\n",
        "\n",
        "## Output Format (JSON):\n",
        "For each atomic request, return:\n",
        "{{\"driver_issue\": ..., \"solution_providing_command\": ..., \"confidence\": <float from 0 to 1>, \"rationale\": \"<brief explanation of how you identified the intent and slot(s)>\"}}\n",
        "\n",
        "## Examples:\n",
        "* \"It's hot in here\"\n",
        "  → {{\"driver_issue\": \"The cabin is too hot\", \"solution_providing_command\": \"Set the A/C to 20 degrees Celsius\", \"confidence\": 0.94, \"rationale\": \"The complaint is about temperature discomfort, and the typical corrective action is adjusting the air conditioning.\"}}\n",
        "\n",
        "* \"I'm hungry\"\n",
        "  → {{\"driver_issue\": \"The driver wants to eat\", \"solution_providing_command\": \"Find the nearest restaurant\", \"confidence\": 0.91, \"rationale\": \"Expressing hunger implies a desire to find food, usually solved by navigating to a restaurant.\"}}\n",
        "\n",
        "* \"I don't want the wind on me\"\n",
        "  → {{\"driver_issue\": \"Airflow is directed at the driver\", \"solution_providing_command\": \"Turn off the fan or redirect airflow\", \"confidence\": 0.89, \"rationale\": \"The user is reacting to airflow discomfort, implying a need to adjust fan direction or intensity.\"}}\n",
        "\n",
        "* \"The fan is too strong\"\n",
        "  → {{\"driver_issue\": \"Fan speed is too high\", \"solution_providing_command\": \"Lower the fan speed\", \"confidence\": 0.93, \"rationale\": \"The driver is objecting to fan strength, which clearly maps to reducing fan speed.\"}}\n",
        "\n",
        "* \"It's a bit dark in here\"\n",
        "  → {{\"driver_issue\": \"The cabin is too dark\", \"solution_providing_command\": \"Turn on the interior lights\", \"confidence\": 0.90, \"rationale\": \"The complaint about darkness suggests a need for illumination, solvable by enabling cabin lights.\"}}\n",
        "\n",
        "* \"I feel like listening to something\"\n",
        "  → {{\"driver_issue\": \"The driver wants to hear audio\", \"solution_providing_command\": \"Play some music\", \"confidence\": 0.87, \"rationale\": \"The phrase implies a desire for entertainment, with music being a common default.\"}}\n",
        "\n",
        "* \"It's stuffy in here\"\n",
        "  → {{\"driver_issue\": \"The air feels stagnant\", \"solution_providing_command\": \"Open a window or turn on ventilation\", \"confidence\": 0.72, \"rationale\": \"The phrase suggests discomfort due to poor airflow, but the optimal solution may vary by user intent.\"}}\n",
        "\n",
        "* \"It's too quiet\"\n",
        "  → {{\"driver_issue\": \"The cabin is too quiet\", \"solution_providing_command\": \"Play background music or turn on the radio\", \"confidence\": 0.68, \"rationale\": \"The driver may want audio entertainment, but could also be referencing conversation or mechanical noise.\"}}\n",
        "\n",
        "* \"I can't see very well\"\n",
        "  → {{\"driver_issue\": \"Visibility is poor\", \"solution_providing_command\": \"Adjust the headlights or clean the windshield\", \"confidence\": 0.65, \"rationale\": \"The cause of poor visibility is unclear—could be lighting, weather, or windshield obstruction.\"}}\n",
        "\n",
        "* \"It's not comfortable\"\n",
        "  → {{\"driver_issue\": \"The driver is feeling discomfort\", \"solution_providing_command\": \"Adjust seat or cabin temperature\", \"confidence\": 0.60, \"rationale\": \"General discomfort could stem from many sources—temperature, seating, posture, or noise.\"}}\n",
        "\n",
        "* \"It's noisy\"\n",
        "  → {{\"driver_issue\": \"Cabin noise is too high\", \"solution_providing_command\": \"Lower the window or mute audio\", \"confidence\": 0.58, \"rationale\": \"‘Noisy’ is vague; it could refer to road noise, passengers, or media volume.\"}}\n",
        "\n",
        "Now extract the issue and generate the corresponding direct command for the utterance:\n",
        "\"{user_utterance}\"\n",
        "\"\"\"\n",
        "\n",
        "navigation_domain_template = \"\"\"You are a multilingual linguist for an in-car voice assistant.\n",
        "You understand synonyms, paraphrases, and user intent across different languages.\n",
        "You specialize in vehicle navigation.\n",
        "\n",
        "## Task:\n",
        "Analyze the following user utterance:\n",
        "\"{user_utterance}\"\n",
        "\n",
        "Follow these steps::\n",
        "1. If the utterance contains multiple requests, split them into atomic statements (each with a single instruction).\n",
        "2. For each atomic statement:\n",
        "   - Identify the most appropriate **intent** from the list below.\n",
        "   - Extract up to **three** relevant **slot–value pairs**.\n",
        "3. Treat polite requests, questions, and indirect expressions as equivalent to direct commands.\n",
        "4. Focus on the meaning of the utterance — ignore tone, politeness, or sentence structure.\n",
        "5. For each atomic request, output only the JSON in the specified format. Include a short rationale and a confidence score as fields in the JSON.\n",
        "6. Do not add any title of explanation. Return only the JSON output.\n",
        "\n",
        "## Available Intents:\n",
        "* add_stopover: Insert an additional stop or waypoint into the current route.\n",
        "* find_place: Search for a location or point of interest (e.g. restaurant, MacDonald's, the Alps).\n",
        "* navigate_to: Start navigation to a specified destination.\n",
        "* save_location: Store a location for future reference (e.g. save as \"home\" or \"favorite\").\n",
        "* set_route_preference: Adjust route options or preferences (e.g. avoid tolls, prefer highways).\n",
        "\n",
        "## Available Slots and Their Descriptions:\n",
        "* destination: A specific place to navigate to (e.g. street, business name, city, personal POI).\n",
        "* label: A name given to a saved location (e.g. \"home\", \"favorite parking spot\").\n",
        "* location: A specific place to search or locate (same categories as destination).\n",
        "* modifier: Descriptive constraints (e.g. \"nearest\", \"cheap\", \"not crowded\").\n",
        "* route_preference: A preferred way to travel (e.g. \"avoid tolls\", \"via the M25\", \"fastest route\").\n",
        "* stopover: A place to stop at along the route (same categories as destination).\n",
        "* target_device: A device to act upon (e.g. map, screen).\n",
        "\n",
        "## Clarification\n",
        "- If the user is requesting a change to their current route to avoid traffic, the intent is \"set_route_preference\".\n",
        "- If the user is asking to view possible roads or options — without necessarily changing the route — the intent is \"find_place\" or \"show_options\".\n",
        "\n",
        "## Output Format (JSON):\n",
        "For each atomic request, return:\n",
        "{{\"intent\": ..., \"slots\": {{...}}, \"confidence\": <float from 0 to 1>, \"rationale\": \"<brief explanation of how you identified the intent and slot(s)>\"}}\n",
        "\n",
        "## Examples:\n",
        "* \"Add Sainsbury's as a stopover on this journey\"\n",
        "  → {{\"intent\": \"add_stopover\", \"slots\": {{\"stopover\": \"Sainsbury's\"}}, \"confidence\": 0.95, \"rationale\": \"The phrase 'add ... as a stopover' explicitly requests inserting a stop at a named location during the journey.\"}}\n",
        "\n",
        "* \"Where is the nearest petrol station?\"\n",
        "  → {{\"intent\": \"find_place\", \"slots\": {{\"location\": \"petrol station\", \"modifier\": \"nearest\"}}, \"confidence\": 0.92, \"rationale\": \"This is a location query for information purposes, not a request to navigate.\"}}\n",
        "\n",
        "* \"Take me to the hospital\"\n",
        "  → {{\"intent\": \"navigate_to\", \"slots\": {{\"destination\": \"hospital\"}}, \"confidence\": 0.97, \"rationale\": \"The phrase 'take me to' strongly indicates a request to begin navigation to a destination.\"}}\n",
        "\n",
        "* \"Mark this spot as my favorite parking location\"\n",
        "  → {{\"intent\": \"save_location\", \"slots\": {{\"label\": \"my favorite parking location\"}}, \"confidence\": 0.91, \"rationale\": \"The command involves saving a location with a user-defined label, matching save_location intent.\"}}\n",
        "\n",
        "* \"Avoid the toll roads\"\n",
        "  → {{\"intent\": \"set_route_preference\", \"slots\": {{\"route_preference\": \"avoid tolls\"}}, \"confidence\": 0.94, \"rationale\": \"The user expresses a routing preference, which clearly aligns with modifying the route strategy.\"}}\n",
        "\n",
        "* \"Navigate to 25 Oxford Street, London via the M25\"\n",
        "  → {{\"intent\": \"navigate_to\", \"slots\": {{\"destination\": \"25 Oxford Street, London\", \"route_preference\": \"via the M25\"}}, \"confidence\": 0.96, \"rationale\": \"Both the destination and the preferred route are clearly stated, making this a direct navigation command.\"}}\n",
        "\n",
        "* \"Show alternative roads to avoid traffic\"\n",
        "  → {{\"intent\": \"find_place\", \"slots\": {{\"location\": \"alternative roads\", \"route_preference\": \"avoid traffic\"}}, \"confidence\": 0.85, \"rationale\": \"The request is for a visual display or options, not a command to change the route immediately.\"}}\n",
        "\n",
        "* \"Avoid traffic\"\n",
        "  → {{\"intent\": \"set_route_preference\", \"slots\": {{\"route_preference\": \"avoid traffic\"}}, \"confidence\": 0.90, \"rationale\": \"This is a succinct command to modify the route based on real-time or general traffic preferences.\"}}\n",
        "\n",
        "Now extract the intents and slots from the utterance:\n",
        "\"{user_utterance}\"\n",
        "\"\"\""
      ],
      "metadata": {
        "colab": {
          "base_uri": "https://localhost:8080/",
          "height": 17
        },
        "id": "Y423RgNoEycS",
        "outputId": "4a19ff62-c767-4caf-96eb-eba4c5ff1ee8"
      },
      "execution_count": 7,
      "outputs": [
        {
          "output_type": "display_data",
          "data": {
            "text/plain": [
              "<IPython.core.display.HTML object>"
            ],
            "text/html": [
              "\n",
              "  <style>\n",
              "    pre {\n",
              "        white-space: pre-wrap;\n",
              "    }\n",
              "  </style>\n",
              "  "
            ]
          },
          "metadata": {}
        }
      ]
    },
    {
      "cell_type": "code",
      "source": [
        "domain_classification_prompt = PromptTemplate(\n",
        "    input_variables=[\"user_utterance\"],\n",
        "    template = \"\"\"You are a helpful multilingual linguist for an in-car voice assistant.\n",
        "You have an excellent understanding of vocabulary, synonyms, paraphrasing, and intent recognition across multiple languages.\n",
        "\n",
        "## Task:\n",
        "Analyze the following user utterance:\n",
        "\"{user_utterance}\"\n",
        "\n",
        "Follow these steps:\n",
        "1. If the utterance contains multiple requests, split them into atomic statements (each with a single instruction).\n",
        "2. For each atomic statement, match the utterance to one of the predefined **domains** below, based on the **underlying goal** or **task** it expresses — not its surface form.\n",
        "3. Do not add any title or explanation (e.g. \"navigation\").\n",
        "4. Treat polite requests, questions, and indirect expressions as equivalent to direct commands.\n",
        "5. Focus on the meaning of the utterance — ignore tone, politeness, or sentence structure.\n",
        "6. Classify an utterance with no verb and is not a direct command into the \"implicit_to_direct\" domain.\n",
        "\n",
        "## Available Domains:\n",
        "* **audio_media**: Playing, pausing, skipping, or adjusting music, radio, podcasts, or playlists.\n",
        "* **climate_control**: Adjusting or querying temperature, a/c, fan speed, heating, or airflow.\n",
        "* **communication**: Making a call or sending/reading messages — to known contacts or by number.\n",
        "* **device_control**: Opening, closing, or adjusting physical car elements like windows, mirrors, or lights.\n",
        "* **implicit_to_direct**: Expressing a problem, discomfort, desire, or emotional state that implies a change is needed (e.g. hunger, cold, boredom).\n",
        "* **navigation**: Finding locations, routing, or requesting directions.\n",
        "\n",
        "## Output Format (JSON):\n",
        "Return a list of objects. Each object should include:\n",
        "- \"domain\": one of the valid domains\n",
        "- \"atomic_segment\": the part of the utterance that corresponds to this domain\n",
        "\n",
        "## Examples:\n",
        "* \"Play some jazz from my playlist\" → [{{\"domain\": \"audio_media\", \"atomic_segment\": \"Play some jazz from my playlist\"}}]\n",
        "* \"Search for podcasts about gardening\" → [{{\"domain\": \"audio_media\", \"atomic_segment\": \"Search for podcasts about gardening\"}}]\n",
        "* \"Turn on the A/C at twenty-two degrees Celsius\" → [{{\"domain\": \"climate_control\", \"atomic_segment\": \"Turn on the A/C at twenty-two degrees Celsius\"}}]\n",
        "* \"Switch off the seat heating\" → [{{\"domain\": \"aclimate_control\", \"atomic_segment\": \"Switch off the seat heating\"}}]\n",
        "* \"Call Pam on her cell phone\" → [{{\"domain\": \"communication\", \"atomic_segment\": \"Call Pam on her cell phone\"}}]\n",
        "* \"Dial Kevin at work\" → [{{\"domain\": \"communication\", \"atomic_segment\": \"Dial Kevin at work\"}}]\n",
        "* \"Roll down the windows\" → [{{\"domain\": \"device_control\", \"atomic_segment\": \"Roll down the windows\"}}]\n",
        "* \"Turn off the ambient light\" → [{{\"domain\": \"device_control\", \"atomic_segment\": \"Turn off the ambient light\"}}]\n",
        "* \"I fancy some steak\" → [{{\"domain\": \"implicit_to_direct\", \"atomic_segment\": \"I fancy some steak\"}}]\n",
        "* \"I feel like some purple lighting\" → [{{\"domain\": \"implicit_to_direct\", \"atomic_segment\": \"I feel like some purple lighting\"}}]\n",
        "* \"Where is the nearest petrol station?\" → [{{\"domain\": \"navigation\", \"atomic_segment\": \"Where is the nearest petrol station\"}}]\n",
        "* \"Tell me where the nearest petrol station is\" → [{{\"domain\": \"navigation\", \"atomic_segment\": \"Tell me where the nearest petrol station is\"}}]\n",
        "* \"Close all the windows then switch on the a/c\" → [{{\"domain\": \"device_control\", \"atomic_segment\": \"Close all the windows\"}}, {{\"domain\": \"climate_control\", \"atomic_segment\": \"switch on the a/c\"}}]\n",
        "* \"Lower the radio volume and call my mum on her mobile\" → [{{\"domain\": \"audio_media\", \"atomic_segment\": Lower the radio volume\"}}, {{\"domain\": \"communication\", \"atomic_segment\": \"call my mum on her mobile\"}}]\n",
        "\n",
        "Now classify the domain of the following utterance:\n",
        "\"{user_utterance}\"\n",
        "\"\"\"\n",
        ")"
      ],
      "metadata": {
        "id": "3HqoVBsEhqpR",
        "colab": {
          "base_uri": "https://localhost:8080/",
          "height": 17
        },
        "outputId": "2867a093-3dc1-4ec7-f43e-344d45222758"
      },
      "execution_count": 8,
      "outputs": [
        {
          "output_type": "display_data",
          "data": {
            "text/plain": [
              "<IPython.core.display.HTML object>"
            ],
            "text/html": [
              "\n",
              "  <style>\n",
              "    pre {\n",
              "        white-space: pre-wrap;\n",
              "    }\n",
              "  </style>\n",
              "  "
            ]
          },
          "metadata": {}
        }
      ]
    },
    {
      "cell_type": "code",
      "source": [
        "# Define the chains\n",
        "\n",
        "# A chain that takes an utterance and determines the domain for each atomic segment\n",
        "domain_classification_chain = LLMChain(llm=llm, prompt=domain_classification_prompt)\n",
        "\n",
        "# `destination_chains` is a dictionary mapping each destination label (e.g. domain name) to a specific LLMChain that should handle that part of the input\n",
        "# Each key (domain) points to a chain that knows how to process atomic utterances for that domain\n",
        "# Create the destination chains\n",
        "\n",
        "# Links a domain to its intent+slots classification template\n",
        "domain_router = [\n",
        "    {\"domain\": \"audio_media\", \"prompt_template\": audio_media_domain_template},\n",
        "    {\"domain\": \"climate_control\", \"prompt_template\": climate_control_domain_template},\n",
        "    {\"domain\": \"communication\", \"prompt_template\": communication_domain_template},\n",
        "    {\"domain\": \"device_control\", \"prompt_template\": device_control_domain_template},\n",
        "    {\"domain\": \"implicit_to_direct\", \"prompt_template\": implict_to_direct_domain_template},\n",
        "    {\"domain\": \"navigation\", \"prompt_template\": navigation_domain_template}\n",
        "]\n",
        "\n",
        "destination_chains = {}\n",
        "\n",
        "for p_info in domain_router:\n",
        "    domain = p_info[\"domain\"]\n",
        "    template = p_info[\"prompt_template\"]\n",
        "    prompt = ChatPromptTemplate.from_template(template)\n",
        "    chain = LLMChain(llm=llm, prompt=prompt)\n",
        "    destination_chains[domain] = chain"
      ],
      "metadata": {
        "colab": {
          "base_uri": "https://localhost:8080/",
          "height": 72
        },
        "id": "k7CwS0NwUr3s",
        "outputId": "a37685e9-3e41-485f-bcc9-cdeb1c2e8372"
      },
      "execution_count": 9,
      "outputs": [
        {
          "output_type": "display_data",
          "data": {
            "text/plain": [
              "<IPython.core.display.HTML object>"
            ],
            "text/html": [
              "\n",
              "  <style>\n",
              "    pre {\n",
              "        white-space: pre-wrap;\n",
              "    }\n",
              "  </style>\n",
              "  "
            ]
          },
          "metadata": {}
        },
        {
          "output_type": "stream",
          "name": "stderr",
          "text": [
            "<ipython-input-9-8bd65bc924fd>:4: LangChainDeprecationWarning: The class `LLMChain` was deprecated in LangChain 0.1.17 and will be removed in 1.0. Use :meth:`~RunnableSequence, e.g., `prompt | llm`` instead.\n",
            "  domain_classification_chain = LLMChain(llm=llm, prompt=domain_classification_prompt)\n"
          ]
        }
      ]
    },
    {
      "cell_type": "code",
      "source": [
        "import json\n",
        "\n",
        "def run_multi_domain_router(user_utterance, classification_chain, destination_chains):\n",
        "    \"\"\"\n",
        "    1. Classify utterance into atomic segments per domain\n",
        "    2. Route each atomic segment to its corresponding domain-specific chain\n",
        "    3. Return combined results\n",
        "    \"\"\"\n",
        "    # Step 1: Run classification chain to get domains and atomic segments\n",
        "    classification_response = classification_chain.run(user_utterance)\n",
        "\n",
        "    try:\n",
        "        atomic_segments = json.loads(classification_response)\n",
        "    except json.JSONDecodeError as e:\n",
        "        raise ValueError(f\"Could not parse classification output as JSON: {classification_response}\") from e\n",
        "\n",
        "    if not isinstance(atomic_segments, list):\n",
        "        raise ValueError(f\"Expected a list of domain/segment pairs, got: {atomic_segments}\")\n",
        "\n",
        "    results = []\n",
        "\n",
        "    # Step 2: Process each atomic segment through the appropriate domain-specific chain\n",
        "    for item in atomic_segments:\n",
        "        domain = item.get(\"domain\")\n",
        "        segment = item.get(\"atomic_segment\")\n",
        "\n",
        "        if domain not in destination_chains:\n",
        "            raise ValueError(f\"Unknown domain '{domain}' in classification output.\")\n",
        "\n",
        "        domain_chain = destination_chains[domain]\n",
        "\n",
        "        # Call the chain with the atomic segment\n",
        "        response = domain_chain.run({\"user_utterance\": segment})\n",
        "        results.append({\n",
        "            \"domain\": domain,\n",
        "            \"segment\": segment,\n",
        "            \"response\": response\n",
        "        })\n",
        "\n",
        "    return results"
      ],
      "metadata": {
        "colab": {
          "base_uri": "https://localhost:8080/",
          "height": 17
        },
        "id": "nr2Rrv_4-h6-",
        "outputId": "3132a859-3381-4ff0-9c3b-e7533d5b9e37"
      },
      "execution_count": 10,
      "outputs": [
        {
          "output_type": "display_data",
          "data": {
            "text/plain": [
              "<IPython.core.display.HTML object>"
            ],
            "text/html": [
              "\n",
              "  <style>\n",
              "    pre {\n",
              "        white-space: pre-wrap;\n",
              "    }\n",
              "  </style>\n",
              "  "
            ]
          },
          "metadata": {}
        }
      ]
    },
    {
      "cell_type": "code",
      "source": [
        "# Run the NLU module to classify an utterance\n",
        "def main():\n",
        "    # Start with the user's original utterance\n",
        "    utterance_queue = [get_utterance()]\n",
        "\n",
        "    while utterance_queue:\n",
        "        current_utterance = utterance_queue.pop(0)\n",
        "\n",
        "        # Run multi-domain classification and intent+slot extraction\n",
        "        results = run_multi_domain_router(\n",
        "            current_utterance,\n",
        "            classification_chain=domain_classification_chain,\n",
        "            destination_chains=destination_chains\n",
        "        )\n",
        "\n",
        "        for r in results:\n",
        "            domain = r['domain']\n",
        "            segment = r['segment']\n",
        "            response = r['response']\n",
        "            print(f\"[{domain}] {segment} -> {response}\")\n",
        "\n",
        "            # If the domain is 'implicit_to_direct', check for solution command\n",
        "            if domain == 'implicit_to_direct':\n",
        "                try:\n",
        "                    parsed_response = json.loads(response)\n",
        "                    solution = parsed_response.get('solution_providing_command')\n",
        "                    if solution:\n",
        "                        # Feed solution back into the loop for re-processing\n",
        "                        utterance_queue.append(solution)\n",
        "                except json.JSONDecodeError:\n",
        "                    print(\"Warning: Could not parse JSON from implicit_to_direct response.\")"
      ],
      "metadata": {
        "colab": {
          "base_uri": "https://localhost:8080/",
          "height": 17
        },
        "id": "P6k0mRgwxI5I",
        "outputId": "3db67e72-e45e-4002-d227-515ac74c47d5"
      },
      "execution_count": 38,
      "outputs": [
        {
          "output_type": "display_data",
          "data": {
            "text/plain": [
              "<IPython.core.display.HTML object>"
            ],
            "text/html": [
              "\n",
              "  <style>\n",
              "    pre {\n",
              "        white-space: pre-wrap;\n",
              "    }\n",
              "  </style>\n",
              "  "
            ]
          },
          "metadata": {}
        }
      ]
    },
    {
      "cell_type": "code",
      "source": [
        "if __name__ == \"__main__\":\n",
        "    main()"
      ],
      "metadata": {
        "colab": {
          "base_uri": "https://localhost:8080/",
          "height": 145
        },
        "id": "CKFcn5eCsY13",
        "outputId": "4163b9a4-2f8c-4390-fe44-a898bd3aa4cc"
      },
      "execution_count": 39,
      "outputs": [
        {
          "output_type": "display_data",
          "data": {
            "text/plain": [
              "<IPython.core.display.HTML object>"
            ],
            "text/html": [
              "\n",
              "  <style>\n",
              "    pre {\n",
              "        white-space: pre-wrap;\n",
              "    }\n",
              "  </style>\n",
              "  "
            ]
          },
          "metadata": {}
        },
        {
          "output_type": "stream",
          "name": "stdout",
          "text": [
            "\n",
            "Tell me something: Close all the windows then switch on the a/c at 22 degrees\n",
            "[device_control] Close all the windows -> {\"intent\": \"close_device\", \"slots\": {\"car_part\": \"windows\", \"scope\": \"all\"}, \"confidence\": 0.96, \"rationale\": \"Direct command with clear action and broad coverage modifier.\"}\n",
            "[climate_control] switch on the a/c at 22 degrees -> {\"intent\": \"switch_on\", \"slots\": {\"target_device\": \"a/c\", \"quantity\": \"22\", \"unit\": \"degrees\"}, \"confidence\": 0.96, \"rationale\": \"Clear switch-on intent with precise temperature, assuming Celsius as the unit due to its common usage in climate control contexts.\"}\n"
          ]
        }
      ]
    }
  ]
}